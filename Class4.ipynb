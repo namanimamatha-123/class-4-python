{
 "cells": [
  {
   "cell_type": "code",
   "execution_count": 1,
   "id": "0b516454",
   "metadata": {},
   "outputs": [],
   "source": [
    "# Conditional Statements "
   ]
  },
  {
   "cell_type": "code",
   "execution_count": 5,
   "id": "20f38cec",
   "metadata": {},
   "outputs": [
    {
     "name": "stdout",
     "output_type": "stream",
     "text": [
      "300\n",
      "210\n",
      "I can able to buy\n"
     ]
    }
   ],
   "source": [
    "mymoney=int(input())\n",
    "price=int(input())\n",
    "if price<=mymoney:\n",
    "    print(\"I can able to buy\")\n",
    "else:\n",
    "    print(\"I am unable to buy\")\n",
    "    "
   ]
  },
  {
   "cell_type": "code",
   "execution_count": 6,
   "id": "65f01aa9",
   "metadata": {},
   "outputs": [
    {
     "data": {
      "text/plain": [
       "500"
      ]
     },
     "execution_count": 6,
     "metadata": {},
     "output_type": "execute_result"
    }
   ],
   "source": [
    "a=500\n",
    "a"
   ]
  },
  {
   "cell_type": "code",
   "execution_count": 7,
   "id": "3284269d",
   "metadata": {},
   "outputs": [
    {
     "ename": "SyntaxError",
     "evalue": "cannot assign to False (893722540.py, line 1)",
     "output_type": "error",
     "traceback": [
      "\u001b[1;36m  Cell \u001b[1;32mIn[7], line 1\u001b[1;36m\u001b[0m\n\u001b[1;33m    False=500\u001b[0m\n\u001b[1;37m    ^\u001b[0m\n\u001b[1;31mSyntaxError\u001b[0m\u001b[1;31m:\u001b[0m cannot assign to False\n"
     ]
    }
   ],
   "source": [
    "False=500\n",
    "False"
   ]
  },
  {
   "cell_type": "code",
   "execution_count": 11,
   "id": "112b4600",
   "metadata": {},
   "outputs": [
    {
     "name": "stdout",
     "output_type": "stream",
     "text": [
      "Happy Birthday Charan\n",
      "I will Buy a coat\n"
     ]
    }
   ],
   "source": [
    "a=900\n",
    "Shirt_Price=200\n",
    "pant_Price=500\n",
    "Coat_Price=800\n",
    "if True:\n",
    "    print(\"Happy Birthday Charan\")\n",
    "if Coat_Price<=a:\n",
    "    print(\"I will Buy a coat\")\n",
    "elif pant_Price<500:\n",
    "    print(\"I will try to buy a pant\")\n",
    "elif Shirt_Price<500:\n",
    "    print(\"I will try to buy a Shirt\")\n",
    "else:\n",
    "    print(\"Sorry you cannot buy\")"
   ]
  },
  {
   "cell_type": "code",
   "execution_count": 13,
   "id": "2070ce37",
   "metadata": {},
   "outputs": [
    {
     "data": {
      "text/plain": [
       "50"
      ]
     },
     "execution_count": 13,
     "metadata": {},
     "output_type": "execute_result"
    }
   ],
   "source": [
    "A=50\n",
    "A"
   ]
  },
  {
   "cell_type": "code",
   "execution_count": 14,
   "id": "c3b47ee4",
   "metadata": {},
   "outputs": [
    {
     "ename": "SyntaxError",
     "evalue": "cannot assign to False (2567597797.py, line 1)",
     "output_type": "error",
     "traceback": [
      "\u001b[1;36m  Cell \u001b[1;32mIn[14], line 1\u001b[1;36m\u001b[0m\n\u001b[1;33m    False=50\u001b[0m\n\u001b[1;37m    ^\u001b[0m\n\u001b[1;31mSyntaxError\u001b[0m\u001b[1;31m:\u001b[0m cannot assign to False\n"
     ]
    }
   ],
   "source": [
    "False=50\n",
    "False"
   ]
  },
  {
   "cell_type": "code",
   "execution_count": 16,
   "id": "2322f3e3",
   "metadata": {},
   "outputs": [
    {
     "name": "stdout",
     "output_type": "stream",
     "text": [
      "I will buy a shirt\n",
      "I can continue my shoppping\n",
      "I will choose my fav\n"
     ]
    }
   ],
   "source": [
    "a=500\n",
    "shirt_price=200\n",
    "pant_price=500\n",
    "coat_price=800\n",
    "my_size='L'\n",
    "size_Store=['M','L','S','XS','XXL']\n",
    "my_Fav_Color='Black'\n",
    "store_clr=[\"Whte\",'red','Black','Orange']\n",
    "if coat_price <=a:\n",
    "    print(\"I will buy a coat\")\n",
    "elif pant_price<a:\n",
    "    print(\"I will buy a pant\")\n",
    "elif shirt_price<a:\n",
    "    print(\"I will buy a shirt\")\n",
    "    if my_size in size_Store:\n",
    "        print(\"I can continue my shoppping\")\n",
    "        if my_Fav_Color in store_clr:\n",
    "            print(\"I will choose my fav\")\n",
    "        else:\n",
    "            print(\"Bye I am not going to Buy in this\")\n",
    "    else:\n",
    "        print(\"My size is not available\")\n",
    "else:\n",
    "    print(\"I won't buy\")"
   ]
  },
  {
   "cell_type": "code",
   "execution_count": null,
   "id": "00d8a327",
   "metadata": {},
   "outputs": [],
   "source": [
    "a=\"charan\"\n",
    "a='charan'"
   ]
  },
  {
   "cell_type": "code",
   "execution_count": 17,
   "id": "d7a3a5f2",
   "metadata": {},
   "outputs": [
    {
     "name": "stdout",
     "output_type": "stream",
     "text": [
      "I will buy\n"
     ]
    }
   ],
   "source": [
    "course=['DSM','DSA','JAVA',\"python\"]\n",
    "price=30000\n",
    "mentor=\"charan\"\n",
    "if \"python\" in course and price<=40000 and \"charan\"==mentor:\n",
    "    print(\"I will buy\")"
   ]
  },
  {
   "cell_type": "code",
   "execution_count": 19,
   "id": "9bb6ca5f",
   "metadata": {},
   "outputs": [
    {
     "name": "stdout",
     "output_type": "stream",
     "text": [
      "Tharun's fav book is wings of fire\n"
     ]
    }
   ],
   "source": [
    "a='Tharun's fav book is wings of fire'\n",
    "print(a)"
   ]
  },
  {
   "cell_type": "code",
   "execution_count": 20,
   "id": "e1688926",
   "metadata": {},
   "outputs": [
    {
     "name": "stdout",
     "output_type": "stream",
     "text": [
      "Enter your usernamecharan\n",
      "Enter your passwordomsairam\n",
      "You have logged in Successfully\n"
     ]
    }
   ],
   "source": [
    "user_name=\"charan\"\n",
    "password=\"omsairam\"\n",
    "if user_name==input(\"Enter your username\") and password==input(\"Enter your password\"):\n",
    "    print(\"You have logged in Successfully\")\n",
    "else:\n",
    "    print(\"Enter correct name and password\")"
   ]
  },
  {
   "cell_type": "code",
   "execution_count": 21,
   "id": "94a72e75",
   "metadata": {},
   "outputs": [
    {
     "name": "stdout",
     "output_type": "stream",
     "text": [
      "Enter your mobile number9848022338\n",
      "You are registered user\n",
      "Enter the otp sent to your Mobbile no9877\n",
      "You have logged in Successfully\n"
     ]
    }
   ],
   "source": [
    "mobile_no=9848022338\n",
    "otp=9877\n",
    "if mobile_no==int(input(\"Enter your mobile number\")):\n",
    "    print(\"You are registered user\")\n",
    "    if otp==int(input(\"Enter the otp sent to your Mobbile no\")):\n",
    "        print(\"You have logged in Successfully\")\n",
    "    else:\n",
    "        print(\"incorrect OTP please Re enter Again correctly\")\n",
    "else:\n",
    "    print(\"You are not a Registered user\")\n",
    "                    \n",
    "        "
   ]
  },
  {
   "cell_type": "code",
   "execution_count": 23,
   "id": "11a2693a",
   "metadata": {},
   "outputs": [
    {
     "name": "stdout",
     "output_type": "stream",
     "text": [
      "250\n",
      "10\n"
     ]
    }
   ],
   "source": [
    "sum=10\n",
    "def cal():\n",
    "    sum=30\n",
    "    sum=sum+20\n",
    "    current_Sum=200\n",
    "    totalsum=sum+current_Sum\n",
    "    print(totalsum)\n",
    "cal();\n",
    "print(sum)"
   ]
  },
  {
   "cell_type": "code",
   "execution_count": 24,
   "id": "3f8d73e0",
   "metadata": {},
   "outputs": [
    {
     "name": "stdout",
     "output_type": "stream",
     "text": [
      "230\n",
      "30\n"
     ]
    }
   ],
   "source": [
    "sum=10\n",
    "def cal():\n",
    "    global sum\n",
    "    sum=sum+20\n",
    "    current_Sum=200\n",
    "    totalsum=sum+current_Sum\n",
    "    print(totalsum)\n",
    "cal();\n",
    "print(sum)"
   ]
  },
  {
   "cell_type": "code",
   "execution_count": 28,
   "id": "a32037d0",
   "metadata": {},
   "outputs": [
    {
     "name": "stdout",
     "output_type": "stream",
     "text": [
      "Enter your mobile no9848022338\n",
      "You are registered user\n",
      "Enter the otp sent to your Mobbile no9877\n",
      "You have logged in Successfully\n"
     ]
    }
   ],
   "source": [
    "mobile_no={9848022338,9888888888,8464808080}\n",
    "otp=9877\n",
    "if int(input(\"Enter your mobile no\")) in mobile_no:\n",
    "    print(\"You are registered user\")\n",
    "    if otp==int(input(\"Enter the otp sent to your Mobbile no\")):\n",
    "        print(\"You have logged in Successfully\")\n",
    "    else:\n",
    "        print(\"incorrect OTP please Re enter Again correctly\")\n",
    "else:\n",
    "    print(\"You are not a Registered user\")\n",
    "                    \n",
    "        "
   ]
  },
  {
   "cell_type": "raw",
   "id": "d1e9e4c0",
   "metadata": {},
   "source": [
    "#Assignment Q 4\n",
    "1Q) You have 1000 Rupees.You have to buy Lunch box & Accessories based on conditions give:\n",
    "it should be of Tupperware Brand\n",
    "Size of Lunch Box is Going to be 3 boxes \n",
    "color is going to be blue or red.\n",
    "price oflunch box can be around 800 \n"
   ]
  },
  {
   "cell_type": "markdown",
   "id": "3af3d8a1",
   "metadata": {},
   "source": [
    "2Q) You have to Check a patinent Details in your Hospital whether he belongs to that hospital or not \n",
    "hospital only checks Male patients aged Above 40 and Below 60 and User name and Aadhar card name has to match and Phone no of that patient has to be stored in our hospital Database(Conssider using set )"
   ]
  },
  {
   "cell_type": "markdown",
   "id": "eb4d3d62",
   "metadata": {},
   "source": [
    "3q) You are a studnet you are preparing for Bank Exam where each guide cost 100 rupees You have 880 rupees if u buy 6 guides how much is going to be left it has to print and Guides u need to buy are for (SSC  Aptitude Qualitative Reasoning )any guides of your choice and it should display what are the Guides you Bought and Display your Remianing balance."
   ]
  },
  {
   "cell_type": "markdown",
   "id": "aa3d4318",
   "metadata": {},
   "source": [
    "4q)You went to ATM where you have to enter your Card no and Pin as an input u have available balance 40K and U have to withdraw 32k \n",
    "so it should Display the remaining balance if ur details Provided and the stored details are matched ."
   ]
  },
  {
   "cell_type": "code",
   "execution_count": 29,
   "id": "fd57bbf5",
   "metadata": {},
   "outputs": [],
   "source": [
    "# Whether A number is Even or odd"
   ]
  },
  {
   "cell_type": "code",
   "execution_count": 30,
   "id": "5f6d5420",
   "metadata": {},
   "outputs": [],
   "source": [
    "# Largest of 3 numbers "
   ]
  },
  {
   "cell_type": "code",
   "execution_count": 31,
   "id": "69bbdf14",
   "metadata": {},
   "outputs": [],
   "source": [
    "#Reverse of A string"
   ]
  },
  {
   "cell_type": "code",
   "execution_count": 33,
   "id": "8818d150",
   "metadata": {},
   "outputs": [
    {
     "name": "stdout",
     "output_type": "stream",
     "text": [
      "220\n",
      "10\n"
     ]
    }
   ],
   "source": [
    " sum=10\n",
    "def cal():\n",
    "    #global sum\n",
    "    sum=sum+20\n",
    "    current_Sum=200\n",
    "    totalsum=sum+current_Sum\n",
    "    print(totalsum)\n",
    "cal();\n",
    "print(sum)"
   ]
  },
  {
   "cell_type": "code",
   "execution_count": 36,
   "id": "09c62348",
   "metadata": {},
   "outputs": [
    {
     "name": "stdout",
     "output_type": "stream",
     "text": [
      "Enter a number6\n",
      "the number is 6\n",
      "Entered Number 6 is an even number\n"
     ]
    }
   ],
   "source": [
    "num = int(input(\"Enter a number\"))\n",
    "if num>0:\n",
    "    print(\"the number is\",num)\n",
    "    if num%2==0:\n",
    "        print(f\"Entered Number {num} is an even number\")\n",
    "    else:\n",
    "        print(\"Entered number is {num} is odd number\")\n",
    "else:\n",
    "    print(\"Entered number is not a number\")"
   ]
  },
  {
   "cell_type": "code",
   "execution_count": 38,
   "id": "238606ad",
   "metadata": {},
   "outputs": [
    {
     "name": "stdout",
     "output_type": "stream",
     "text": [
      "230\n",
      "30\n"
     ]
    }
   ],
   "source": [
    " sum=10\n",
    "def cal():\n",
    "    global sum\n",
    "    sum=sum+20\n",
    "    current_Sum=200\n",
    "    totalsum=sum+current_Sum\n",
    "    print(totalsum)\n",
    "cal();\n",
    "print(sum)"
   ]
  },
  {
   "cell_type": "code",
   "execution_count": 39,
   "id": "58b3c400",
   "metadata": {},
   "outputs": [
    {
     "name": "stdout",
     "output_type": "stream",
     "text": [
      "['C++', 'Java', 'Python']\n"
     ]
    }
   ],
   "source": [
    "a = [\"Python\",\"Java\",\"C++\"]\n",
    "a.reverse()\n",
    "print(a)"
   ]
  },
  {
   "cell_type": "code",
   "execution_count": 41,
   "id": "e812a409",
   "metadata": {},
   "outputs": [
    {
     "name": "stdout",
     "output_type": "stream",
     "text": [
      "1\n",
      "2\n",
      "3\n",
      "4\n",
      "5\n"
     ]
    }
   ],
   "source": [
    "s={1,2,3,4,5}\n",
    "for i in s:\n",
    "    print(i)"
   ]
  },
  {
   "cell_type": "code",
   "execution_count": 42,
   "id": "39b49120",
   "metadata": {},
   "outputs": [],
   "source": [
    "t=(12,3,4,45,\"Sudha\",\"Charan\")\n",
    "t_int=[]\n",
    "t_str=[]\n",
    "for i in t:\n",
    "    if type(i)==str:\n",
    "        t_str.append(i)\n",
    "    elif type(i)==int:\n",
    "        t_int.append(i)"
   ]
  },
  {
   "cell_type": "code",
   "execution_count": 43,
   "id": "81c8fc71",
   "metadata": {},
   "outputs": [
    {
     "data": {
      "text/plain": [
       "[12, 3, 4, 45]"
      ]
     },
     "execution_count": 43,
     "metadata": {},
     "output_type": "execute_result"
    }
   ],
   "source": [
    "t_int"
   ]
  },
  {
   "cell_type": "code",
   "execution_count": 44,
   "id": "c9afc80b",
   "metadata": {},
   "outputs": [
    {
     "data": {
      "text/plain": [
       "['Sudha', 'Charan']"
      ]
     },
     "execution_count": 44,
     "metadata": {},
     "output_type": "execute_result"
    }
   ],
   "source": [
    "t_str"
   ]
  },
  {
   "cell_type": "code",
   "execution_count": 46,
   "id": "72036d6a",
   "metadata": {},
   "outputs": [
    {
     "name": "stdout",
     "output_type": "stream",
     "text": [
      "enter a number a:3\n",
      "enter a number b:4\n",
      "enter a number c:5\n",
      "5 is the largest\n"
     ]
    }
   ],
   "source": [
    "a=int(input(\"enter a number a:\"))\n",
    "b=int(input(\"enter a number b:\"))\n",
    "c=int(input(\"enter a number c:\"))\n",
    "if a>c and a>b:\n",
    "    print(a,\"is the largest\")\n",
    "elif b>c and b>a:\n",
    "    print(b,\"is the largest\")\n",
    "else:\n",
    "    print(c,\"is the largest\")\n",
    "      "
   ]
  },
  {
   "cell_type": "code",
   "execution_count": 47,
   "id": "4ee31720",
   "metadata": {},
   "outputs": [],
   "source": [
    "#Area of Square"
   ]
  },
  {
   "cell_type": "code",
   "execution_count": 49,
   "id": "4b914ea6",
   "metadata": {},
   "outputs": [],
   "source": [
    "#s*s\n",
    "# Area of rectangle \n",
    "# perimeter ofRectangle \n",
    "# Area of Square\n",
    "#perimeter of square"
   ]
  },
  {
   "cell_type": "code",
   "execution_count": null,
   "id": "1df213ca",
   "metadata": {},
   "outputs": [],
   "source": []
  }
 ],
 "metadata": {
  "kernelspec": {
   "display_name": "Python 3 (ipykernel)",
   "language": "python",
   "name": "python3"
  },
  "language_info": {
   "codemirror_mode": {
    "name": "ipython",
    "version": 3
   },
   "file_extension": ".py",
   "mimetype": "text/x-python",
   "name": "python",
   "nbconvert_exporter": "python",
   "pygments_lexer": "ipython3",
   "version": "3.10.9"
  }
 },
 "nbformat": 4,
 "nbformat_minor": 5
}
